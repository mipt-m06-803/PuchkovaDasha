{
 "cells": [
  {
   "cell_type": "markdown",
   "metadata": {},
   "source": [
    "# Упражнение 1. Максимальное произведение\n",
    "\n",
    "На вход подается число $N > 1$, а затем $N$ чисел: каждое в отдельной строке. Найдите среди введенных чисел два числа, дающих максимальное произведение. Решите задачу в 1 проход, не сохраняя все введенные числа."
   ]
  },
  {
   "cell_type": "code",
   "execution_count": 12,
   "metadata": {},
   "outputs": [
    {
     "name": "stdout",
     "output_type": "stream",
     "text": [
      "6\n",
      "-5000\n",
      "4\n",
      "5\n",
      "6\n",
      "-1\n",
      "3\n",
      "-5000.0 -1.0\n",
      "5000.0\n"
     ]
    }
   ],
   "source": [
    "N = int(input()) \n",
    "x1 = float(input()) \n",
    "x2 = float(input()) \n",
    "if x2 > x1: \n",
    "    x2, x1 = x1, x2 \n",
    "min1, min2 = x2, x1 \n",
    "max1, max2 = x1, x2 \n",
    "for i in range(N-2): \n",
    "    x = float(input()) \n",
    "    if x < min1: \n",
    "        min1, min2 = x, min1 \n",
    "    elif x < min2: \n",
    "        min2 = x \n",
    "\n",
    "    if x > max1: \n",
    "        max1, max2 = x, max1 \n",
    "    elif x > max2: \n",
    "        max2 = x \n",
    "\n",
    "if min1 * min2> max1 * max2:\n",
    "    print(min1, min2)\n",
    "else:\n",
    "    print(max1, max2)\n",
    "\n",
    "print(max(min1 * min2, max1 * max2))"
   ]
  },
  {
   "cell_type": "markdown",
   "metadata": {},
   "source": [
    "# Упражнение 2. Максимальное произведение 3-х чисел\n",
    "\n",
    "Из последовательности целых чисел выбрать 3 числа, произведение которых максимально\n",
    "\n",
    "*Вход.* В первой строке текста - количество чисел $N$, $3 \\leq N \\leq 10^8$, в следующих $N$ строках - целые числа.\n",
    "\n",
    "*Выход.* Три числа в произвольном порядке.\n",
    "\n",
    "Есть указания к решению в <font color=blue>[1]</font>."
   ]
  },
  {
   "cell_type": "code",
   "execution_count": 14,
   "metadata": {},
   "outputs": [
    {
     "name": "stdout",
     "output_type": "stream",
     "text": [
      "6\n",
      "-50000\n",
      "3\n",
      "4\n",
      "-1\n",
      "400\n",
      "9\n",
      "2\n",
      "-50000.0 -1.0 400.0\n",
      "20000000.0\n"
     ]
    }
   ],
   "source": [
    "N = int(input()) \n",
    "x1 = float(input()) \n",
    "x2 = float(input()) \n",
    "if x2 > x1: \n",
    "    x2, x1 = x1, x2 \n",
    "min1, min2 = x2, x1 \n",
    "max1, max2 = x1, x2 \n",
    "x3 = float(input())\n",
    "if x3 > max1:\n",
    "    max1, max2, max3 = x3, max1, max2\n",
    "elif x3 > max2 and x3 < max1:\n",
    "    max1, max2, max3 = max1, x3, max2\n",
    "else:\n",
    "    max1, max2, max3 = max1, max2, x3\n",
    "    \n",
    "for i in range(N-2): \n",
    "    x = float(input()) \n",
    "    if x < min1: \n",
    "        min1, min2 = x, min1 \n",
    "    elif x < min2 and x > min1: \n",
    "        min2 = x \n",
    "\n",
    "    if x > max1: \n",
    "        max1, max2, max3 = x, max1,max2 \n",
    "    elif x > max2 and x < max1: \n",
    "        max1, max2, max3 = max1, x, max2 \n",
    "\n",
    "if min1 * min2 * max1> max1 * max2 * max3:\n",
    "    print(min1, min2, max1)\n",
    "else:\n",
    "    print(max1, max2,max3)\n",
    "\n",
    "print(max(min1 * min2*max1, max1 * max2*max3))"
   ]
  },
  {
   "cell_type": "code",
   "execution_count": null,
   "metadata": {},
   "outputs": [],
   "source": []
  }
 ],
 "metadata": {
  "kernelspec": {
   "display_name": "Python 3",
   "language": "python",
   "name": "python3"
  },
  "language_info": {
   "codemirror_mode": {
    "name": "ipython",
    "version": 3
   },
   "file_extension": ".py",
   "mimetype": "text/x-python",
   "name": "python",
   "nbconvert_exporter": "python",
   "pygments_lexer": "ipython3",
   "version": "3.7.0"
  }
 },
 "nbformat": 4,
 "nbformat_minor": 2
}
